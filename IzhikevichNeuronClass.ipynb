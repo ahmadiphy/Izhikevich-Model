{
 "cells": [
  {
   "cell_type": "markdown",
   "metadata": {},
   "source": [
    "# Python Class for Izhikevich Neural Model\n",
    "\n",
    "* Using Runge-Kutta 4th Method\n",
    "\\begin{equation}\n",
    "\\dfrac{dv}{dt}=0.04 v^{2}+5 v+140-u+I\n",
    "\\end{equation}\n",
    "\n",
    "\\begin{equation}\n",
    "\\dfrac{du}{dt}=a(bv-u)\n",
    "\\end{equation}\n",
    "\n",
    "\\begin{equation}\n",
    "if ~ v=30mv, ~ then: ~~ v\\leftarrow c , u\\leftarrow u+c\n",
    "\\end{equation}"
   ]
  },
  {
   "cell_type": "code",
   "execution_count": 1,
   "metadata": {},
   "outputs": [],
   "source": [
    "import matplotlib.pyplot as plt"
   ]
  },
  {
   "cell_type": "code",
   "execution_count": 2,
   "metadata": {},
   "outputs": [],
   "source": [
    "class izhi():\n",
    "    def __init__(self,u0,v0,I0,a0,b0,c0,d0,h0):\n",
    "        self.u=u0\n",
    "        self.v=v0\n",
    "        self.I=I0\n",
    "        self.a=a0\n",
    "        self.b=b0\n",
    "        self.c=c0\n",
    "        self.d=d0\n",
    "        self.h=h0\n",
    "        self.t=0\n",
    "    def f_v(self,v,u):\n",
    "        return 0.04*v**2+5*v+140-u+self.I\n",
    "    def f_u(self,v,u):\n",
    "        return self.a*(self.b*v-u)\n",
    "    def k1v(self,v,u):\n",
    "        return self.h*self.f_v(v,u)\n",
    "    def k1u(self,v,u):\n",
    "        return self.h*self.f_u(v,u)\n",
    "    def k2v(self,v,u):\n",
    "        return self.h*self.f_v(v+0.5*self.k1v(v,u),u+0.5*self.k1u(v,u))\n",
    "    def k2u(self,v,u):\n",
    "        return self.h*self.f_u(v+0.5*self.k1v(v,u),u+0.5*self.k1u(v,u))\n",
    "    def k3v(self,v,u):\n",
    "        return self.h*self.f_v(v+0.5*self.k2v(v,u),u+0.5*self.k2u(v,u))\n",
    "    def k3u(self,v,u):\n",
    "        return self.h*self.f_u(v+0.5*self.k2v(v,u),u+0.5*self.k2u(v,u))\n",
    "    def k4v(self,v,u):\n",
    "        return self.h*self.f_v(v+self.k3v(v,u),u+self.k3u(v,u))\n",
    "    def k4u(self,v,u):\n",
    "        return self.h*self.f_u(v+self.k3v(v,u),u+self.k3u(v,u))\n",
    "    def RKv(self,v,u):\n",
    "        return v+0.166666667*(self.k1v(v,u)+2*self.k2v(v,u)+2*self.k3v(v,u)+self.k4v(v,u))\n",
    "    def RKu(self,v,u):\n",
    "        return u+0.166666667*(self.k1u(v,u)+2*self.k2u(v,u)+2*self.k3u(v,u)+self.k4u(v,u))\n",
    "    def Run(self,inI=0):#inI is input I from other neurons\n",
    "        if self.v>=30:\n",
    "            self.v=self.c\n",
    "            self.u=self.u+self.d\n",
    "        tempV=self.RKv(self.v,self.u)#solve v equation RK4\n",
    "        tempU=self.RKu(self.v,self.u)#solve u equation RK4\n",
    "        self.v=tempV\n",
    "        self.u=tempU\n",
    "        self.t+=self.h"
   ]
  },
  {
   "cell_type": "markdown",
   "metadata": {},
   "source": [
    "# Regualr Spiking\n",
    "v<sub>0</sub>=-50\n",
    "<br>\n",
    "u<sub>0</sub>=-50\n",
    "<br>\n",
    "I=10\n",
    "<br>\n",
    "a=0.02\n",
    "<br>\n",
    "b=0.2\n",
    "<br>\n",
    "c=-65\n",
    "<br>\n",
    "d=8\n",
    "<br>\n",
    "h=0.1ms *(Runge-Kutta time step size)*"
   ]
  },
  {
   "cell_type": "code",
   "execution_count": 4,
   "metadata": {},
   "outputs": [],
   "source": [
    "n1=izhi(-50,-50,10,0.02,0.2,-65,8,0.1)\n",
    "t=[]\n",
    "vs=[]\n",
    "us=[]\n",
    "for i in range(0,10000,1):\n",
    "    n1.Run()\n",
    "    t.append(n1.t)\n",
    "    vs.append(n1.v)\n",
    "    us.append(n1.u)"
   ]
  },
  {
   "cell_type": "code",
   "execution_count": 5,
   "metadata": {},
   "outputs": [
    {
     "data": {
      "image/png": "[encoded data removed]",
      "text/plain": [
       "<Figure size 432x288 with 1 Axes>"
      ]
     },
     "metadata": {},
     "output_type": "display_data"
    }
   ],
   "source": [
    "plt.plot(t,vs)\n",
    "plt.show()"
   ]
  },
  {
   "cell_type": "code",
   "execution_count": null,
   "metadata": {},
   "outputs": [],
   "source": []
  }
 ],
 "metadata": {
  "kernelspec": {
   "display_name": "Python 3",
   "language": "python",
   "name": "python3"
  },
  "language_info": {
   "codemirror_mode": {
    "name": "ipython",
    "version": 3
   },
   "file_extension": ".py",
   "mimetype": "text/x-python",
   "name": "python",
   "nbconvert_exporter": "python",
   "pygments_lexer": "ipython3",
   "version": "3.6.7"
  }
 },
 "nbformat": 4,
 "nbformat_minor": 2
}
